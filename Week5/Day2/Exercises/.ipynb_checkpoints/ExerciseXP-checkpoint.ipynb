{
 "cells": [
  {
   "cell_type": "code",
   "execution_count": 1,
   "id": "f4da254d-6820-4c7a-a347-ac9afdefb49f",
   "metadata": {},
   "outputs": [],
   "source": [
    "import pandas as pd"
   ]
  },
  {
   "cell_type": "code",
   "execution_count": 10,
   "id": "5eba8c89-b084-4372-9b7b-69da52373671",
   "metadata": {},
   "outputs": [
    {
     "data": {
      "text/html": [
       "<div>\n",
       "<style scoped>\n",
       "    .dataframe tbody tr th:only-of-type {\n",
       "        vertical-align: middle;\n",
       "    }\n",
       "\n",
       "    .dataframe tbody tr th {\n",
       "        vertical-align: top;\n",
       "    }\n",
       "\n",
       "    .dataframe thead th {\n",
       "        text-align: right;\n",
       "    }\n",
       "</style>\n",
       "<table border=\"1\" class=\"dataframe\">\n",
       "  <thead>\n",
       "    <tr style=\"text-align: right;\">\n",
       "      <th></th>\n",
       "      <th>order_id</th>\n",
       "      <th>quantity</th>\n",
       "      <th>item_name</th>\n",
       "      <th>choice_description</th>\n",
       "      <th>item_price</th>\n",
       "    </tr>\n",
       "  </thead>\n",
       "  <tbody>\n",
       "    <tr>\n",
       "      <th>0</th>\n",
       "      <td>1</td>\n",
       "      <td>1</td>\n",
       "      <td>Chips and Fresh Tomato Salsa</td>\n",
       "      <td>NaN</td>\n",
       "      <td>$2.39</td>\n",
       "    </tr>\n",
       "    <tr>\n",
       "      <th>1</th>\n",
       "      <td>1</td>\n",
       "      <td>1</td>\n",
       "      <td>Izze</td>\n",
       "      <td>[Clementine]</td>\n",
       "      <td>$3.39</td>\n",
       "    </tr>\n",
       "    <tr>\n",
       "      <th>2</th>\n",
       "      <td>1</td>\n",
       "      <td>1</td>\n",
       "      <td>Nantucket Nectar</td>\n",
       "      <td>[Apple]</td>\n",
       "      <td>$3.39</td>\n",
       "    </tr>\n",
       "    <tr>\n",
       "      <th>3</th>\n",
       "      <td>1</td>\n",
       "      <td>1</td>\n",
       "      <td>Chips and Tomatillo-Green Chili Salsa</td>\n",
       "      <td>NaN</td>\n",
       "      <td>$2.39</td>\n",
       "    </tr>\n",
       "    <tr>\n",
       "      <th>4</th>\n",
       "      <td>2</td>\n",
       "      <td>2</td>\n",
       "      <td>Chicken Bowl</td>\n",
       "      <td>[Tomatillo-Red Chili Salsa (Hot), [Black Beans...</td>\n",
       "      <td>$16.98</td>\n",
       "    </tr>\n",
       "    <tr>\n",
       "      <th>5</th>\n",
       "      <td>3</td>\n",
       "      <td>1</td>\n",
       "      <td>Chicken Bowl</td>\n",
       "      <td>[Fresh Tomato Salsa (Mild), [Rice, Cheese, Sou...</td>\n",
       "      <td>$10.98</td>\n",
       "    </tr>\n",
       "    <tr>\n",
       "      <th>6</th>\n",
       "      <td>3</td>\n",
       "      <td>1</td>\n",
       "      <td>Side of Chips</td>\n",
       "      <td>NaN</td>\n",
       "      <td>$1.69</td>\n",
       "    </tr>\n",
       "    <tr>\n",
       "      <th>7</th>\n",
       "      <td>4</td>\n",
       "      <td>1</td>\n",
       "      <td>Steak Burrito</td>\n",
       "      <td>[Tomatillo Red Chili Salsa, [Fajita Vegetables...</td>\n",
       "      <td>$11.75</td>\n",
       "    </tr>\n",
       "    <tr>\n",
       "      <th>8</th>\n",
       "      <td>4</td>\n",
       "      <td>1</td>\n",
       "      <td>Steak Soft Tacos</td>\n",
       "      <td>[Tomatillo Green Chili Salsa, [Pinto Beans, Ch...</td>\n",
       "      <td>$9.25</td>\n",
       "    </tr>\n",
       "    <tr>\n",
       "      <th>9</th>\n",
       "      <td>5</td>\n",
       "      <td>1</td>\n",
       "      <td>Steak Burrito</td>\n",
       "      <td>[Fresh Tomato Salsa, [Rice, Black Beans, Pinto...</td>\n",
       "      <td>$9.25</td>\n",
       "    </tr>\n",
       "  </tbody>\n",
       "</table>\n",
       "</div>"
      ],
      "text/plain": [
       "   order_id  quantity                              item_name   \n",
       "0         1         1           Chips and Fresh Tomato Salsa  \\\n",
       "1         1         1                                   Izze   \n",
       "2         1         1                       Nantucket Nectar   \n",
       "3         1         1  Chips and Tomatillo-Green Chili Salsa   \n",
       "4         2         2                           Chicken Bowl   \n",
       "5         3         1                           Chicken Bowl   \n",
       "6         3         1                          Side of Chips   \n",
       "7         4         1                          Steak Burrito   \n",
       "8         4         1                       Steak Soft Tacos   \n",
       "9         5         1                          Steak Burrito   \n",
       "\n",
       "                                  choice_description item_price  \n",
       "0                                                NaN     $2.39   \n",
       "1                                       [Clementine]     $3.39   \n",
       "2                                            [Apple]     $3.39   \n",
       "3                                                NaN     $2.39   \n",
       "4  [Tomatillo-Red Chili Salsa (Hot), [Black Beans...    $16.98   \n",
       "5  [Fresh Tomato Salsa (Mild), [Rice, Cheese, Sou...    $10.98   \n",
       "6                                                NaN     $1.69   \n",
       "7  [Tomatillo Red Chili Salsa, [Fajita Vegetables...    $11.75   \n",
       "8  [Tomatillo Green Chili Salsa, [Pinto Beans, Ch...     $9.25   \n",
       "9  [Fresh Tomato Salsa, [Rice, Black Beans, Pinto...     $9.25   "
      ]
     },
     "execution_count": 10,
     "metadata": {},
     "output_type": "execute_result"
    }
   ],
   "source": [
    "url = \"https://raw.githubusercontent.com/justmarkham/DAT8/master/data/chipotle.tsv\"\n",
    "chipo = pd.read_csv(url, sep='\\t')\n",
    "\n",
    "chipo.head(10)"
   ]
  },
  {
   "cell_type": "code",
   "execution_count": 11,
   "id": "6eb72e08-7abb-44ab-a8c9-49b10a114bce",
   "metadata": {},
   "outputs": [
    {
     "name": "stdout",
     "output_type": "stream",
     "text": [
      "Total number of entries (rows): 4622\n"
     ]
    }
   ],
   "source": [
    "total_rows = chipo.shape[0]\n",
    "print(\"Total number of entries (rows):\", total_rows)"
   ]
  },
  {
   "cell_type": "code",
   "execution_count": 12,
   "id": "c844fe03-9b1b-4e82-8858-432cb5713eba",
   "metadata": {},
   "outputs": [
    {
     "name": "stdout",
     "output_type": "stream",
     "text": [
      "Total number of columns: 5\n",
      "Total number of columns: 5\n"
     ]
    }
   ],
   "source": [
    "total_columns = chipo.shape[1]\n",
    "print(\"Total number of columns:\", total_columns)"
   ]
  },
  {
   "cell_type": "code",
   "execution_count": 13,
   "id": "58872336-9761-4dfe-ad45-9656b3161bc6",
   "metadata": {},
   "outputs": [
    {
     "name": "stdout",
     "output_type": "stream",
     "text": [
      "Column names:\n",
      "order_id\n",
      "quantity\n",
      "item_name\n",
      "choice_description\n",
      "item_price\n"
     ]
    }
   ],
   "source": [
    "column_names = chipo.columns\n",
    "print(\"Column names:\")\n",
    "for column in column_names:\n",
    "    print(column)"
   ]
  },
  {
   "cell_type": "code",
   "execution_count": 14,
   "id": "78645776-b9ab-4583-8be5-437bc2065420",
   "metadata": {},
   "outputs": [
    {
     "name": "stdout",
     "output_type": "stream",
     "text": [
      "DataFrame index:\n",
      "RangeIndex(start=0, stop=4622, step=1)\n"
     ]
    }
   ],
   "source": [
    "dataframe_index = chipo.index\n",
    "print(\"DataFrame index:\")\n",
    "print(dataframe_index)"
   ]
  },
  {
   "cell_type": "code",
   "execution_count": 15,
   "id": "03955a0d-b845-4dea-82c5-f09c64d5d5c1",
   "metadata": {},
   "outputs": [
    {
     "name": "stdout",
     "output_type": "stream",
     "text": [
      "Most ordered item: Chicken Bowl\n"
     ]
    }
   ],
   "source": [
    "most_ordered_item = chipo['item_name'].value_counts().idxmax()\n",
    "print(\"Most ordered item:\", most_ordered_item)"
   ]
  },
  {
   "cell_type": "code",
   "execution_count": 16,
   "id": "56111fe6-dc63-4716-be78-bbaccb2f3e9c",
   "metadata": {},
   "outputs": [
    {
     "name": "stdout",
     "output_type": "stream",
     "text": [
      "Total number of items ordered: 4972\n"
     ]
    }
   ],
   "source": [
    "total_items_ordered = chipo['quantity'].sum()\n",
    "print(\"Total number of items ordered:\", total_items_ordered)"
   ]
  },
  {
   "cell_type": "code",
   "execution_count": 17,
   "id": "eccfa16f-d4fe-4755-ae83-a8b959bd17ba",
   "metadata": {},
   "outputs": [
    {
     "name": "stdout",
     "output_type": "stream",
     "text": [
      "Most ordered choice: [Diet Coke]\n"
     ]
    }
   ],
   "source": [
    "most_ordered_choice = chipo['choice_description'].value_counts().idxmax()\n",
    "print(\"Most ordered choice:\", most_ordered_choice)"
   ]
  },
  {
   "cell_type": "code",
   "execution_count": 18,
   "id": "316e607a-0c52-499a-9e8b-62118751721d",
   "metadata": {},
   "outputs": [
    {
     "name": "stdout",
     "output_type": "stream",
     "text": [
      "   order_id  quantity                              item_name   \n",
      "0         1         1           Chips and Fresh Tomato Salsa  \\\n",
      "1         1         1                                   Izze   \n",
      "2         1         1                       Nantucket Nectar   \n",
      "3         1         1  Chips and Tomatillo-Green Chili Salsa   \n",
      "4         2         2                           Chicken Bowl   \n",
      "\n",
      "                                  choice_description  item_price  \n",
      "0                                                NaN        2.39  \n",
      "1                                       [Clementine]        3.39  \n",
      "2                                            [Apple]        3.39  \n",
      "3                                                NaN        2.39  \n",
      "4  [Tomatillo-Red Chili Salsa (Hot), [Black Beans...       16.98  \n"
     ]
    }
   ],
   "source": [
    "convert_to_float = lambda x: float(x[1:])\n",
    "chipo['item_price'] = chipo['item_price'].apply(convert_to_float)\n",
    "\n",
    "print(chipo.head())"
   ]
  },
  {
   "cell_type": "code",
   "execution_count": 19,
   "id": "4052bb13-9143-48e2-8e12-64d081c01490",
   "metadata": {},
   "outputs": [
    {
     "name": "stdout",
     "output_type": "stream",
     "text": [
      "Total revenue: 34500.16\n"
     ]
    }
   ],
   "source": [
    "total_revenue = chipo['item_price'].sum()\n",
    "print(\"Total revenue:\", total_revenue)"
   ]
  },
  {
   "cell_type": "code",
   "execution_count": 20,
   "id": "5f420023-9c6d-46b7-bba9-e7c7cad6e01c",
   "metadata": {},
   "outputs": [
    {
     "name": "stdout",
     "output_type": "stream",
     "text": [
      "Total number of orders: 1834\n"
     ]
    }
   ],
   "source": [
    "total_orders = chipo['order_id'].nunique()\n",
    "print(\"Total number of orders:\", total_orders)"
   ]
  },
  {
   "cell_type": "code",
   "execution_count": 21,
   "id": "24478707-b634-4bd4-a742-45a2828c6195",
   "metadata": {},
   "outputs": [
    {
     "name": "stdout",
     "output_type": "stream",
     "text": [
      "Average order value: 18.811428571428575\n"
     ]
    }
   ],
   "source": [
    "average_order_value = total_revenue / total_orders\n",
    "print(\"Average order value:\", average_order_value)"
   ]
  },
  {
   "cell_type": "code",
   "execution_count": 22,
   "id": "322fc2ed-bebf-4a4c-b817-439b5b289362",
   "metadata": {},
   "outputs": [
    {
     "name": "stdout",
     "output_type": "stream",
     "text": [
      "Total number of unique items sold: 50\n"
     ]
    }
   ],
   "source": [
    "total_unique_items = chipo['item_name'].nunique()\n",
    "print(\"Total number of unique items sold:\", total_unique_items)"
   ]
  },
  {
   "cell_type": "code",
   "execution_count": 23,
   "id": "22c06ad9-dba9-469a-8307-0c2f6170e031",
   "metadata": {},
   "outputs": [
    {
     "name": "stdout",
     "output_type": "stream",
     "text": [
      "Count of products that cost more than $10: 1130\n"
     ]
    }
   ],
   "source": [
    "expensive_products_count = chipo[chipo['item_price'] > 10]['item_name'].count()\n",
    "print(\"Count of products that cost more than $10:\", expensive_products_count)"
   ]
  },
  {
   "cell_type": "code",
   "execution_count": 27,
   "id": "847cbbea-0b3b-4d99-affa-d145442a7e05",
   "metadata": {},
   "outputs": [
    {
     "name": "stdout",
     "output_type": "stream",
     "text": [
      "occupation\n",
      "administrator    38.746835\n",
      "artist           31.392857\n",
      "doctor           43.571429\n",
      "educator         42.010526\n",
      "engineer         36.388060\n",
      "entertainment    29.222222\n",
      "executive        38.718750\n",
      "healthcare       41.562500\n",
      "homemaker        32.571429\n",
      "lawyer           36.750000\n",
      "librarian        40.000000\n",
      "marketing        37.615385\n",
      "none             26.555556\n",
      "other            34.523810\n",
      "programmer       33.121212\n",
      "retired          63.071429\n",
      "salesman         35.666667\n",
      "scientist        35.548387\n",
      "student          22.081633\n",
      "technician       33.148148\n",
      "writer           36.311111\n",
      "Name: age, dtype: float64\n"
     ]
    }
   ],
   "source": [
    "url2 = \"https://raw.githubusercontent.com/justmarkham/DAT8/master/data/u.user\"\n",
    "users = pd.read_csv(url2, sep='|')\n",
    "mean_age_per_occupation = users.groupby('occupation')['age'].mean()\n",
    "\n",
    "print(mean_age_per_occupation)"
   ]
  },
  {
   "cell_type": "code",
   "execution_count": 38,
   "id": "8bf95b44-a6fa-422b-9032-9dcc0ae799ca",
   "metadata": {},
   "outputs": [
    {
     "name": "stdout",
     "output_type": "stream",
     "text": [
      "Merged Data (rows):\n",
      "   ID   Name\n",
      "0   1  name1\n",
      "1   2  name2\n",
      "2   3  name3\n",
      "3   4  name4\n",
      "4   5  name5\n",
      "5   6  name6\n",
      "\n",
      "Merged Data (columns):\n",
      "   ID   Name  ID   Name\n",
      "0   1  name1   4  name4\n",
      "1   2  name2   5  name5\n",
      "2   3  name3   6  name6\n"
     ]
    }
   ],
   "source": [
    "data1 = pd.DataFrame({'ID': [1, 2, 3], 'Name': ['name1', 'name2', 'name3']})\n",
    "data2 = pd.DataFrame({'ID': [4, 5, 6], 'Name': ['name4', 'name5', 'name6']})\n",
    "data3 = pd.DataFrame({'ID': [7, 8, 9], 'Name': ['name7', 'name8', 'name9']})\n",
    "\n",
    "all_data = pd.concat([data1, data2], ignore_index=True)\n",
    "all_data_col = pd.concat([data1, data2], axis=1)\n",
    "\n",
    "print(\"Merged Data (rows):\")\n",
    "print(all_data)\n",
    "\n",
    "print(\"\\nMerged Data (columns):\")\n",
    "print(all_data_col)\n"
   ]
  },
  {
   "cell_type": "code",
   "execution_count": 29,
   "id": "45d29ad2-904e-41a0-afee-34137b3e195f",
   "metadata": {},
   "outputs": [
    {
     "name": "stdout",
     "output_type": "stream",
     "text": [
      "First few rows of the 'iris' DataFrame:\n",
      "   sepal_length  sepal_width  petal_length  petal_width species\n",
      "0           5.1          3.5           1.4          0.2  setosa\n",
      "1           4.9          3.0           1.4          0.2  setosa\n",
      "2           4.7          3.2           1.3          0.2  setosa\n",
      "3           4.6          3.1           1.5          0.2  setosa\n",
      "4           5.0          3.6           1.4          0.2  setosa\n",
      "\n",
      "Missing values information:\n",
      "sepal_length    False\n",
      "sepal_width     False\n",
      "petal_length    False\n",
      "petal_width     False\n",
      "species         False\n",
      "dtype: bool\n"
     ]
    }
   ],
   "source": [
    "url3 = \"https://raw.githubusercontent.com/uiuc-cse/data-fa14/gh-pages/data/iris.csv\"\n",
    "iris = pd.read_csv(url3)\n",
    "\n",
    "iris.columns = ['sepal_length', 'sepal_width', 'petal_length', 'petal_width', 'species']\n",
    "missing_values = iris.isnull().any()\n",
    "\n",
    "\n",
    "print(\"First few rows of the 'iris' DataFrame:\")\n",
    "print(iris.head())\n",
    "print(\"\\nMissing values information:\")\n",
    "print(missing_values)"
   ]
  },
  {
   "cell_type": "code",
   "execution_count": 30,
   "id": "5c3f48a3-655c-4fc3-9c1d-1c35fbdbd740",
   "metadata": {},
   "outputs": [
    {
     "name": "stdout",
     "output_type": "stream",
     "text": [
      "         name   type  hp   evolution pokedex\n",
      "0   Bulbasaur  grass  45     Ivysaur     yes\n",
      "1  Charmander   fire  39  Charmeleon      no\n",
      "2    Squirtle  water  44   Wartortle     yes\n",
      "3    Caterpie    bug  45     Metapod      no\n"
     ]
    }
   ],
   "source": [
    "data = {\n",
    "    'evolution': ['Ivysaur', 'Charmeleon', 'Wartortle', 'Metapod'],\n",
    "    'hp': [45, 39, 44, 45],\n",
    "    'name': ['Bulbasaur', 'Charmander', 'Squirtle', 'Caterpie'],\n",
    "    'pokedex': ['yes', 'no', 'yes', 'no'],\n",
    "    'type': ['grass', 'fire', 'water', 'bug']\n",
    "}\n",
    "pokemon = pd.DataFrame(data)\n",
    "\n",
    "# Step 3: Rearrange the columns in the specified order using DataFrame indexing\n",
    "pokemon = pokemon[['name', 'type', 'hp', 'evolution', 'pokedex']]\n",
    "\n",
    "# Display the resulting DataFrame\n",
    "print(pokemon)"
   ]
  },
  {
   "cell_type": "code",
   "execution_count": 33,
   "id": "2e1f88f5-472d-42e1-82e2-6cbb5c49153a",
   "metadata": {},
   "outputs": [
    {
     "name": "stdout",
     "output_type": "stream",
     "text": [
      "First 10 entries of 'baby_names':\n",
      "        name sex  births\n",
      "0       Mary   F    7065\n",
      "1       Anna   F    2604\n",
      "2       Emma   F    2003\n",
      "3  Elizabeth   F    1939\n",
      "4     Minnie   F    1746\n",
      "5   Margaret   F    1578\n",
      "6        Ida   F    1472\n",
      "7      Alice   F    1414\n",
      "8     Bertha   F    1320\n",
      "9      Sarah   F    1288\n",
      "\n",
      "DataFrame without any column deletion:\n",
      "        name sex  births\n",
      "0       Mary   F    7065\n",
      "1       Anna   F    2604\n",
      "2       Emma   F    2003\n",
      "3  Elizabeth   F    1939\n",
      "4     Minnie   F    1746\n",
      "5   Margaret   F    1578\n",
      "6        Ida   F    1472\n",
      "7      Alice   F    1414\n",
      "8     Bertha   F    1320\n",
      "9      Sarah   F    1288\n"
     ]
    }
   ],
   "source": [
    "url4 = \"https://raw.githubusercontent.com/wesm/pydata-book/2nd-edition/datasets/babynames/yob1880.txt\"\n",
    "columns = ['name', 'sex', 'births']\n",
    "baby_names = pd.read_csv(url4, names=columns)\n",
    "\n",
    "print(\"First 10 entries of 'baby_names':\")\n",
    "print(baby_names.head(10))\n",
    "print(\"\\nDataFrame without any column deletion:\")\n",
    "print(baby_names.head(10))"
   ]
  },
  {
   "cell_type": "code",
   "execution_count": 37,
   "id": "af893d86-4045-4a7d-b20e-bc1d64346a9d",
   "metadata": {},
   "outputs": [
    {
     "name": "stdout",
     "output_type": "stream",
     "text": [
      "Frequency of the dataset: 44\n",
      "\n",
      "Investor data with 'Date' as the index:\n",
      "            Total Equity  Domestic Equity  World Equity  Hybrid  Total Bond   \n",
      "Date                                                                          \n",
      "2012-12-05         -7426            -6060         -1367     -74        5317  \\\n",
      "2012-12-12         -8783            -7520         -1263     123        1818   \n",
      "2012-12-19         -5496            -5470           -26     -73         103   \n",
      "2012-12-26         -4451            -4076          -375     550        2610   \n",
      "2013-01-02        -11156            -9622         -1533    -158        2383   \n",
      "\n",
      "            Taxable Bond  Municipal Bond  Total  \n",
      "Date                                             \n",
      "2012-12-05          4210            1107  -2183  \n",
      "2012-12-12          1598             219  -6842  \n",
      "2012-12-19          3472           -3369  -5466  \n",
      "2012-12-26          3333            -722  -1291  \n",
      "2013-01-02          2103             280  -8931  \n"
     ]
    }
   ],
   "source": [
    "url5 = \"https://raw.githubusercontent.com/datasets/investor-flow-of-funds-us/master/data/weekly.csv\"\n",
    "investor_data = pd.read_csv(url5)\n",
    "data_frequency = investor_data.shape[0]\n",
    "print(\"Frequency of the dataset:\", data_frequency)\n",
    "\n",
    "investor_data['Date'] = pd.to_datetime(investor_data['Date'])\n",
    "investor_data.set_index('Date', inplace=True)\n",
    "print(\"\\nInvestor data with 'Date' as the index:\")\n",
    "print(investor_data.head())"
   ]
  },
  {
   "cell_type": "code",
   "execution_count": null,
   "id": "64e28f3b-32ad-4027-b208-2f15416290ae",
   "metadata": {},
   "outputs": [],
   "source": []
  }
 ],
 "metadata": {
  "kernelspec": {
   "display_name": "Python 3 (ipykernel)",
   "language": "python",
   "name": "python3"
  },
  "language_info": {
   "codemirror_mode": {
    "name": "ipython",
    "version": 3
   },
   "file_extension": ".py",
   "mimetype": "text/x-python",
   "name": "python",
   "nbconvert_exporter": "python",
   "pygments_lexer": "ipython3",
   "version": "3.11.0"
  }
 },
 "nbformat": 4,
 "nbformat_minor": 5
}
