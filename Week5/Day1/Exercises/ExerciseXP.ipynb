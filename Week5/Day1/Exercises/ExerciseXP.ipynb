{
 "cells": [
  {
   "cell_type": "code",
   "execution_count": 2,
   "id": "5afe2386-52ff-47c5-8ac4-256844195f90",
   "metadata": {},
   "outputs": [],
   "source": [
    "import numpy as np"
   ]
  },
  {
   "cell_type": "code",
   "execution_count": 3,
   "id": "2a7ee5c2-ba5a-490f-9878-e8ca7c655b49",
   "metadata": {},
   "outputs": [],
   "source": [
    "vector_of_zeros = np.zeros(10)"
   ]
  },
  {
   "cell_type": "code",
   "execution_count": 5,
   "id": "7f70cb2e-c7b4-4ed1-b0b5-3741c85c31b9",
   "metadata": {},
   "outputs": [
    {
     "name": "stdout",
     "output_type": "stream",
     "text": [
      "80\n"
     ]
    }
   ],
   "source": [
    "memory_size = vector_of_zeros.size * vector_of_zeros.itemsize\n",
    "print(memory_size)"
   ]
  },
  {
   "cell_type": "code",
   "execution_count": null,
   "id": "44097158-23e5-45de-b9cc-17350a3a81d1",
   "metadata": {},
   "outputs": [],
   "source": [
    "# pydoc numpy.add"
   ]
  },
  {
   "cell_type": "code",
   "execution_count": 10,
   "id": "2dd26aee-352f-4952-8d0d-4367d442922e",
   "metadata": {},
   "outputs": [
    {
     "name": "stdout",
     "output_type": "stream",
     "text": [
      "[10 11 12 13 14 15 16 17 18 19 20 21 22 23 24 25 26 27 28 29 30 31 32 33\n",
      " 34 35 36 37 38 39 40 41 42 43 44 45 46 47 48 49]\n",
      "[49 48 47 46 45 44 43 42 41 40 39 38 37 36 35 34 33 32 31 30 29 28 27 26\n",
      " 25 24 23 22 21 20 19 18 17 16 15 14 13 12 11 10]\n"
     ]
    }
   ],
   "source": [
    "vec = np.arange(10, 50)\n",
    "print(vec)\n",
    "print(vec[::-1])"
   ]
  },
  {
   "cell_type": "code",
   "execution_count": 11,
   "id": "fb69917b-4bbf-4be5-88e3-66afb0ae4d60",
   "metadata": {},
   "outputs": [
    {
     "name": "stdout",
     "output_type": "stream",
     "text": [
      "[[0 1 2]\n",
      " [3 4 5]\n",
      " [6 7 8]]\n"
     ]
    }
   ],
   "source": [
    "ran = np.arange(9)\n",
    "mat = np.reshape(ran, (3, 3))\n",
    "print(mat)"
   ]
  },
  {
   "cell_type": "code",
   "execution_count": 12,
   "id": "e7edc537-6d16-467f-8865-260a7501acf1",
   "metadata": {},
   "outputs": [
    {
     "name": "stdout",
     "output_type": "stream",
     "text": [
      "(array([0, 1, 4]),)\n"
     ]
    }
   ],
   "source": [
    "arr = np.array([1, 2, 0, 0, 4, 0])\n",
    "nonzero_indices = np.nonzero(arr)\n",
    "print(nonzero_indices)"
   ]
  },
  {
   "cell_type": "code",
   "execution_count": 13,
   "id": "45e26167-8b81-4ad1-ab90-ff41eb98b7c3",
   "metadata": {},
   "outputs": [
    {
     "name": "stdout",
     "output_type": "stream",
     "text": [
      "[[1. 0. 0.]\n",
      " [0. 1. 0.]\n",
      " [0. 0. 1.]]\n"
     ]
    }
   ],
   "source": [
    "identity_matrix = np.eye(3)\n",
    "print(identity_matrix)"
   ]
  },
  {
   "cell_type": "code",
   "execution_count": 14,
   "id": "de3ad8b7-2136-439c-9015-c2f0fbf31e39",
   "metadata": {},
   "outputs": [
    {
     "name": "stdout",
     "output_type": "stream",
     "text": [
      "[[0 1 2 3 4]\n",
      " [0 1 2 3 4]\n",
      " [0 1 2 3 4]\n",
      " [0 1 2 3 4]\n",
      " [0 1 2 3 4]]\n"
     ]
    }
   ],
   "source": [
    "row_values = np.arange(5)\n",
    "matrix = np.tile(row_values, (5, 1))\n",
    "\n",
    "print(matrix)"
   ]
  },
  {
   "cell_type": "code",
   "execution_count": 15,
   "id": "5a637424-6d43-4e7b-a303-9097a8f236f1",
   "metadata": {},
   "outputs": [
    {
     "name": "stdout",
     "output_type": "stream",
     "text": [
      "[1.00000000e-10 1.11111111e-01 2.22222222e-01 3.33333333e-01\n",
      " 4.44444444e-01 5.55555556e-01 6.66666667e-01 7.77777778e-01\n",
      " 8.88888889e-01 1.00000000e+00]\n"
     ]
    }
   ],
   "source": [
    "vector = np.linspace(0 + 1e-10, 1 - 1e-10, 10)\n",
    "print(vector)"
   ]
  },
  {
   "cell_type": "code",
   "execution_count": 16,
   "id": "0a0b1a16-c4e2-4b9d-929f-e39d52ae4ba7",
   "metadata": {},
   "outputs": [
    {
     "name": "stdout",
     "output_type": "stream",
     "text": [
      "Random Vector:\n",
      "[0.62742379 0.17283385 0.5530763  0.05607955 0.75759765 0.69421049\n",
      " 0.82356505 0.45689828 0.08079454 0.58877972]\n",
      "\n",
      "Sorted Vector:\n",
      "[0.05607955 0.08079454 0.17283385 0.45689828 0.5530763  0.58877972\n",
      " 0.62742379 0.69421049 0.75759765 0.82356505]\n"
     ]
    }
   ],
   "source": [
    "random_vector = np.random.rand(10)\n",
    "sorted_vector = np.sort(random_vector)\n",
    "\n",
    "print(\"Random Vector:\")\n",
    "print(random_vector)\n",
    "\n",
    "print(\"\\nSorted Vector:\")\n",
    "print(sorted_vector)"
   ]
  },
  {
   "cell_type": "code",
   "execution_count": 17,
   "id": "eca4a631-1f2c-44cb-b75d-40bbe8f99503",
   "metadata": {},
   "outputs": [
    {
     "name": "stdout",
     "output_type": "stream",
     "text": [
      "Integer types:\n",
      "int8: -128 127\n",
      "int32: -2147483648 2147483647\n",
      "int64: -9223372036854775808 9223372036854775807\n",
      "\n",
      "Floating-point types:\n",
      "float32: -3.4028235e+38 3.4028235e+38\n",
      "float64: -1.7976931348623157e+308 1.7976931348623157e+308\n"
     ]
    }
   ],
   "source": [
    "print(\"Integer types:\")\n",
    "print(\"int8:\", np.iinfo(np.int8).min, np.iinfo(np.int8).max)\n",
    "print(\"int32:\", np.iinfo(np.int32).min, np.iinfo(np.int32).max)\n",
    "print(\"int64:\", np.iinfo(np.int64).min, np.iinfo(np.int64).max)\n",
    "\n",
    "print(\"\\nFloating-point types:\")\n",
    "print(\"float32:\", np.finfo(np.float32).min, np.finfo(np.float32).max)\n",
    "print(\"float64:\", np.finfo(np.float64).min, np.finfo(np.float64).max)"
   ]
  },
  {
   "cell_type": "code",
   "execution_count": 18,
   "id": "308fd818-b69b-45f1-b9ab-2c2ca3b2c7ba",
   "metadata": {},
   "outputs": [
    {
     "name": "stdout",
     "output_type": "stream",
     "text": [
      "Float array (converted to int32): [1 2 3 4]\n"
     ]
    }
   ],
   "source": [
    "float_array = np.array([1.5, 2.7, 3.8, 4.2], dtype=np.float32)\n",
    "float_array = float_array.astype(np.int32)\n",
    "\n",
    "print(\"Float array (converted to int32):\", float_array)"
   ]
  },
  {
   "cell_type": "code",
   "execution_count": 19,
   "id": "0316a769-53a3-4eeb-b1d5-6c6786d94858",
   "metadata": {},
   "outputs": [
    {
     "name": "stdout",
     "output_type": "stream",
     "text": [
      "Original matrix:\n",
      "[[1 2 3]\n",
      " [4 5 6]\n",
      " [7 8 9]]\n",
      "\n",
      "Row means:\n",
      "[2. 5. 8.]\n",
      "\n",
      "Matrix with mean subtracted from each row:\n",
      "[[-1.  0.  1.]\n",
      " [-1.  0.  1.]\n",
      " [-1.  0.  1.]]\n"
     ]
    }
   ],
   "source": [
    "matrix = np.array([[1, 2, 3],\n",
    "                   [4, 5, 6],\n",
    "                   [7, 8, 9]])\n",
    "\n",
    "row_means = np.mean(matrix, axis=1)\n",
    "matrix_subtracted = matrix - row_means[:, np.newaxis]\n",
    "\n",
    "print(\"Original matrix:\")\n",
    "print(matrix)\n",
    "\n",
    "print(\"\\nRow means:\")\n",
    "print(row_means)\n",
    "\n",
    "print(\"\\nMatrix with mean subtracted from each row:\")\n",
    "print(matrix_subtracted)"
   ]
  },
  {
   "cell_type": "code",
   "execution_count": 20,
   "id": "0f604fb1-67b4-40da-86ad-0631ac94c0fb",
   "metadata": {},
   "outputs": [
    {
     "name": "stdout",
     "output_type": "stream",
     "text": [
      "Original array:\n",
      "[[3 6 1]\n",
      " [9 2 8]\n",
      " [5 4 7]]\n",
      "\n",
      "Array sorted by the nth column:\n",
      "[[9 2 8]\n",
      " [5 4 7]\n",
      " [3 6 1]]\n"
     ]
    }
   ],
   "source": [
    "array = np.array([[3, 6, 1],\n",
    "                  [9, 2, 8],\n",
    "                  [5, 4, 7]])\n",
    "\n",
    "nth_column = 1\n",
    "sorted_indices = np.argsort(array[:, nth_column])\n",
    "sorted_array = array[sorted_indices]\n",
    "\n",
    "print(\"Original array:\")\n",
    "print(array)\n",
    "\n",
    "print(\"\\nArray sorted by the nth column:\")\n",
    "print(sorted_array)"
   ]
  },
  {
   "cell_type": "code",
   "execution_count": 22,
   "id": "3105d939-02bf-469d-828d-1d9b39701817",
   "metadata": {},
   "outputs": [
    {
     "name": "stdout",
     "output_type": "stream",
     "text": [
      "Original array:\n",
      "[[7 8 9]\n",
      " [4 5 6]\n",
      " [7 8 9]]\n"
     ]
    }
   ],
   "source": [
    "array = np.array([[1, 2, 3],\n",
    "                  [4, 5, 6],\n",
    "                  [7, 8, 9]])\n",
    "\n",
    "array[0], array[2] = array[2], array[0]\n",
    "\n",
    "print(\"Original array:\")\n",
    "print(array)"
   ]
  },
  {
   "cell_type": "code",
   "execution_count": null,
   "id": "b4e219d9-e2e9-463f-b96b-86bffaf2fe81",
   "metadata": {},
   "outputs": [],
   "source": []
  }
 ],
 "metadata": {
  "kernelspec": {
   "display_name": "Python 3 (ipykernel)",
   "language": "python",
   "name": "python3"
  },
  "language_info": {
   "codemirror_mode": {
    "name": "ipython",
    "version": 3
   },
   "file_extension": ".py",
   "mimetype": "text/x-python",
   "name": "python",
   "nbconvert_exporter": "python",
   "pygments_lexer": "ipython3",
   "version": "3.11.0"
  }
 },
 "nbformat": 4,
 "nbformat_minor": 5
}
