{
 "cells": [
  {
   "cell_type": "code",
   "execution_count": null,
   "id": "a0bbd8e9-f987-42e1-b21b-4dc6540edd1a",
   "metadata": {},
   "outputs": [],
   "source": [
    "# Challenge1"
   ]
  },
  {
   "cell_type": "code",
   "execution_count": 1,
   "id": "c640c917-e582-4351-9e07-e7ed39f28912",
   "metadata": {},
   "outputs": [],
   "source": [
    "import numpy as np"
   ]
  },
  {
   "cell_type": "code",
   "execution_count": 15,
   "id": "93df01d0-22d1-4314-bd9d-7d39e8c1c3d6",
   "metadata": {},
   "outputs": [
    {
     "name": "stdout",
     "output_type": "stream",
     "text": [
      "Original matrix:\n",
      "[[45 82 24 76 13]\n",
      " [69 78 65 75  8]\n",
      " [67 33 65 70 95]\n",
      " [52 30 56 15 28]\n",
      " [30 48 77 98 30]]\n",
      "\n",
      "Matrix after swapping the second and fourth rows:\n",
      "[[45 82 24 76 13]\n",
      " [52 30 56 15 28]\n",
      " [67 33 65 70 95]\n",
      " [52 30 56 15 28]\n",
      " [30 48 77 98 30]]\n"
     ]
    }
   ],
   "source": [
    "data = np.array(np.random.randint(1, 100, size=25)).reshape(5, 5)\n",
    "\n",
    "print(\"Original matrix:\")\n",
    "print(data)\n",
    "\n",
    "data[1], data[3] = data[3], data[1]\n",
    "\n",
    "print(\"\\nMatrix after swapping the second and fourth rows:\")\n",
    "print(data)"
   ]
  },
  {
   "cell_type": "code",
   "execution_count": 16,
   "id": "e2b6b909-bd96-420e-a37b-132951cebaad",
   "metadata": {},
   "outputs": [],
   "source": [
    "# Challenge2"
   ]
  },
  {
   "cell_type": "code",
   "execution_count": 17,
   "id": "b49a71a3-af3f-4f83-8dd2-202ae6d266ab",
   "metadata": {},
   "outputs": [
    {
     "name": "stdout",
     "output_type": "stream",
     "text": [
      "Original matrix:\n",
      "[[45 82 24 76 13]\n",
      " [52 30 56 15 28]\n",
      " [67 33 65 70 95]\n",
      " [52 30 56 15 28]\n",
      " [30 48 77 98 30]]\n",
      "\n",
      "Normalized matrix:\n",
      "[[0.37647059 0.81176471 0.12941176 0.74117647 0.        ]\n",
      " [0.45882353 0.2        0.50588235 0.02352941 0.17647059]\n",
      " [0.63529412 0.23529412 0.61176471 0.67058824 0.96470588]\n",
      " [0.45882353 0.2        0.50588235 0.02352941 0.17647059]\n",
      " [0.2        0.41176471 0.75294118 1.         0.2       ]]\n"
     ]
    }
   ],
   "source": [
    "print(\"Original matrix:\")\n",
    "print(data)\n",
    "\n",
    "min_val = np.min(data)\n",
    "max_val = np.max(data)\n",
    "normalized_data = (data - min_val) / (max_val - min_val)\n",
    "\n",
    "print(\"\\nNormalized matrix:\")\n",
    "print(normalized_data)"
   ]
  },
  {
   "cell_type": "code",
   "execution_count": 18,
   "id": "500b537b-525a-4a99-8425-4983ab0b0a0d",
   "metadata": {},
   "outputs": [],
   "source": [
    "# Challenge3"
   ]
  },
  {
   "cell_type": "code",
   "execution_count": 4,
   "id": "2581c14c-1f12-4ef1-8845-aa922ed0d7d7",
   "metadata": {},
   "outputs": [
    {
     "name": "stdout",
     "output_type": "stream",
     "text": [
      "Original matrix:\n",
      "[[81  4  2 57 81]\n",
      " [75 88 87 80 18]\n",
      " [63 99 61 41 69]\n",
      " [75 88 87 80 18]\n",
      " [38 59 26  5 67]]\n",
      "\n",
      "Standardized matrix using Z-score normalization:\n",
      "[[ 0.78060964 -1.82819862 -1.89595987 -0.0325254   0.78060964]\n",
      " [ 0.57732588  1.01777403  0.9838934   0.74672901 -1.35386985]\n",
      " [ 0.17075836  1.39046092  0.10299711 -0.57461543  0.37404212]\n",
      " [ 0.57732588  1.01777403  0.9838934   0.74672901 -1.35386985]\n",
      " [-0.67625731  0.03523585 -1.08282483 -1.79431799  0.30628087]]\n"
     ]
    }
   ],
   "source": [
    "print(\"Original matrix:\")\n",
    "print(data)\n",
    "\n",
    "mean = np.mean(data)\n",
    "std = np.std(data)\n",
    "standardized_data = (data - mean) / std\n",
    "\n",
    "print(\"\\nStandardized matrix using Z-score normalization:\")\n",
    "print(standardized_data)"
   ]
  },
  {
   "cell_type": "code",
   "execution_count": null,
   "id": "92e0125f-9fd2-4348-9cc3-2c676a9014b7",
   "metadata": {},
   "outputs": [],
   "source": [
    "# Challenge4"
   ]
  },
  {
   "cell_type": "code",
   "execution_count": 5,
   "id": "0b974f55-aa96-412a-ba83-05c04505277f",
   "metadata": {},
   "outputs": [
    {
     "name": "stdout",
     "output_type": "stream",
     "text": [
      "Original matrix:\n",
      "[[81  4  2 57 81]\n",
      " [75 88 87 80 18]\n",
      " [63 99 61 41 69]\n",
      " [75 88 87 80 18]\n",
      " [38 59 26  5 67]]\n",
      "\n",
      "Sub-arrays:\n",
      "[81  4  2 57 81]\n",
      "[75 88 87 80 18]\n",
      "[63 99 61 41 69]\n",
      "[75 88 87 80 18]\n",
      "[38 59 26  5 67]\n"
     ]
    }
   ],
   "source": [
    "print(\"Original matrix:\")\n",
    "print(data)\n",
    "\n",
    "data_vector = np.ravel(data)\n",
    "num_subarrays = 5\n",
    "subarrays = np.array_split(data_vector, num_subarrays)\n",
    "\n",
    "print(\"\\nSub-arrays:\")\n",
    "for subarray in subarrays:\n",
    "    print(subarray)"
   ]
  },
  {
   "cell_type": "code",
   "execution_count": null,
   "id": "8dc90803-e1a5-441b-9d08-740afbc02788",
   "metadata": {},
   "outputs": [],
   "source": [
    "# Challenge5"
   ]
  },
  {
   "cell_type": "code",
   "execution_count": 6,
   "id": "14accb84-a51d-4c88-b0cb-5cc43bfc36e8",
   "metadata": {},
   "outputs": [
    {
     "name": "stdout",
     "output_type": "stream",
     "text": [
      "Dot product: 198\n"
     ]
    }
   ],
   "source": [
    "vector1 = np.array([3, 5, 6, 7, 8])\n",
    "vector2 = np.array([2, 4, 6, 8, 10])\n",
    "dot_product = np.dot(vector1, vector2)\n",
    "\n",
    "print(\"Dot product:\", dot_product)"
   ]
  },
  {
   "cell_type": "code",
   "execution_count": null,
   "id": "5ba39fdb-d1e8-48d5-9fdc-5a1960c905ba",
   "metadata": {},
   "outputs": [],
   "source": [
    "# Challenge6"
   ]
  },
  {
   "cell_type": "code",
   "execution_count": 7,
   "id": "ebe144a0-9baf-49d8-a34c-5f285ced88e8",
   "metadata": {},
   "outputs": [
    {
     "name": "stdout",
     "output_type": "stream",
     "text": [
      "Matrix data:\n",
      "[[81  4  2 57 81]\n",
      " [75 88 87 80 18]\n",
      " [63 99 61 41 69]\n",
      " [75 88 87 80 18]\n",
      " [38 59 26  5 67]]\n",
      "\n",
      "Matrix data2:\n",
      "[[32 28 73]\n",
      " [40 65  4]\n",
      " [41 83 16]]\n",
      "\n",
      "Matrix multiplication result:\n",
      "[[ 2834  2694  5961]\n",
      " [ 9487 15041  7219]\n",
      " [ 8477 13262  5971]]\n"
     ]
    }
   ],
   "source": [
    "data2 = np.array(np.random.randint(1, 100, size=9)).reshape(3, 3)\n",
    "\n",
    "print(\"Matrix data:\")\n",
    "print(data)\n",
    "\n",
    "print(\"\\nMatrix data2:\")\n",
    "print(data2)\n",
    "\n",
    "result = np.dot(data[:3, :3], data2)\n",
    "\n",
    "print(\"\\nMatrix multiplication result:\")\n",
    "print(result)"
   ]
  },
  {
   "cell_type": "code",
   "execution_count": null,
   "id": "75c06108-f722-46b2-90e2-6c356067accc",
   "metadata": {},
   "outputs": [],
   "source": [
    "# Challenge7"
   ]
  },
  {
   "cell_type": "code",
   "execution_count": 19,
   "id": "4d020200-bd9a-45ff-92d6-93f550487c5a",
   "metadata": {},
   "outputs": [
    {
     "name": "stdout",
     "output_type": "stream",
     "text": [
      "Scaled matrix:\n",
      "[[2. 0. 0.]\n",
      " [0. 2. 0.]\n",
      " [0. 0. 2.]]\n",
      "\n",
      "Inverse matrix:\n",
      "[[0.5 0.  0. ]\n",
      " [0.  0.5 0. ]\n",
      " [0.  0.  0.5]]\n"
     ]
    }
   ],
   "source": [
    "identity_matrix = np.identity(3)\n",
    "scaled_matrix = 2 * identity_matrix\n",
    "\n",
    "print(\"Scaled matrix:\")\n",
    "print(scaled_matrix)\n",
    "\n",
    "inverse_matrix = np.linalg.inv(scaled_matrix)\n",
    "\n",
    "print(\"\\nInverse matrix:\")\n",
    "print(inverse_matrix)"
   ]
  },
  {
   "cell_type": "code",
   "execution_count": null,
   "id": "5e70ac1c-560e-47b0-a4fa-d37d870dfdc8",
   "metadata": {},
   "outputs": [],
   "source": [
    "# Challenge8"
   ]
  },
  {
   "cell_type": "code",
   "execution_count": 20,
   "id": "c0820a3e-8936-47c5-8c35-1952f37c14ee",
   "metadata": {},
   "outputs": [
    {
     "name": "stdout",
     "output_type": "stream",
     "text": [
      "Original matrix:\n",
      "[[45 82 24 76 13]\n",
      " [52 30 56 15 28]\n",
      " [67 33 65 70 95]\n",
      " [52 30 56 15 28]\n",
      " [30 48 77 98 30]]\n",
      "\n",
      "Eigenvalues: [151.12049107 +0.j          -5.56024554+12.43453824j\n",
      "  -5.56024554-12.43453824j]\n",
      "Eigenvectors:\n",
      "[[ 0.55628684+0.j         -0.74900338+0.j         -0.74900338-0.j        ]\n",
      " [ 0.53342791+0.j          0.30414801-0.1637861j   0.30414801+0.1637861j ]\n",
      " [ 0.63718099+0.j          0.53873576+0.17153953j  0.53873576-0.17153953j]]\n"
     ]
    }
   ],
   "source": [
    "print(\"Original matrix:\")\n",
    "print(data)\n",
    "\n",
    "submatrix = data[:3, :3]\n",
    "eigenvalues, eigenvectors = np.linalg.eig(submatrix)\n",
    "\n",
    "print(\"\\nEigenvalues:\", eigenvalues)\n",
    "print(\"Eigenvectors:\")\n",
    "print(eigenvectors)"
   ]
  },
  {
   "cell_type": "code",
   "execution_count": null,
   "id": "bfb69d0d-db4d-422d-8ebc-67764784f720",
   "metadata": {},
   "outputs": [],
   "source": [
    "# Challenge9"
   ]
  },
  {
   "cell_type": "code",
   "execution_count": 14,
   "id": "31721e0d-e77e-4f31-9332-2b032506bfc1",
   "metadata": {},
   "outputs": [
    {
     "name": "stdout",
     "output_type": "stream",
     "text": [
      "Original matrix:\n",
      "[[81.   4.   2.  57.6 81. ]\n",
      " [75.  57.6 87.  80.  18. ]\n",
      " [63.  99.  61.  41.  69. ]\n",
      " [75.  57.6 87.  80.  18. ]\n",
      " [57.6 59.  57.6  5.  67. ]]\n",
      "\n",
      "Matrix with missing values:\n",
      "[[81.   4.   nan  nan  nan]\n",
      " [75.  57.6 87.   nan 18. ]\n",
      " [63.  99.  61.  41.  69. ]\n",
      " [75.  57.6 87.  80.  18. ]\n",
      " [57.6 59.   nan  5.  67. ]]\n",
      "\n",
      "Indices of missing values:\n",
      "[[0 2]\n",
      " [0 3]\n",
      " [0 4]\n",
      " [1 3]\n",
      " [4 2]]\n"
     ]
    }
   ],
   "source": [
    "print(\"Original matrix:\")\n",
    "print(data)\n",
    "\n",
    "num_elements_to_replace = 5\n",
    "indices_to_replace = np.unravel_index(np.random.choice(data.size, num_elements_to_replace, replace=False), data.shape)\n",
    "data[indices_to_replace] = np.nan\n",
    "\n",
    "print(\"\\nMatrix with missing values:\")\n",
    "print(data)\n",
    "\n",
    "missing_indices = np.argwhere(np.isnan(data))\n",
    "\n",
    "print(\"\\nIndices of missing values:\")\n",
    "print(missing_indices)"
   ]
  },
  {
   "cell_type": "code",
   "execution_count": null,
   "id": "ce50586a-206a-46b5-b75d-9f175ef5d62e",
   "metadata": {},
   "outputs": [],
   "source": [
    "# Challenge10"
   ]
  },
  {
   "cell_type": "code",
   "execution_count": 24,
   "id": "38f0ea15-8744-4895-9cab-12239b2eb6a0",
   "metadata": {},
   "outputs": [
    {
     "name": "stdout",
     "output_type": "stream",
     "text": [
      "Original matrix:\n",
      "[[45.    82.    24.    47.755 13.   ]\n",
      " [47.721 47.721 56.    15.    44.7  ]\n",
      " [44.7   33.    47.721 70.    95.   ]\n",
      " [47.721 47.755 56.    47.755 47.755]\n",
      " [30.    48.    77.    47.721 30.   ]]\n",
      "\n",
      "Matrix with missing values:\n",
      "[[   nan 82.    24.    47.755 13.   ]\n",
      " [47.721    nan    nan 15.    44.7  ]\n",
      " [44.7   33.    47.721    nan    nan]\n",
      " [47.721 47.755 56.    47.755 47.755]\n",
      " [30.    48.    77.    47.721 30.   ]]\n",
      "\n",
      "Matrix after replacing missing values with the mean:\n",
      "[[43.9652 82.     24.     47.755  13.    ]\n",
      " [47.721  43.9652 43.9652 15.     44.7   ]\n",
      " [44.7    33.     47.721  43.9652 43.9652]\n",
      " [47.721  47.755  56.     47.755  47.755 ]\n",
      " [30.     48.     77.     47.721  30.    ]]\n"
     ]
    }
   ],
   "source": [
    "print(\"Original matrix:\")\n",
    "print(data)\n",
    "\n",
    "num_elements_to_replace = 5\n",
    "indices_to_replace = np.random.choice(data.size, num_elements_to_replace, replace=False)\n",
    "data = data.astype(float)  # Change the data type to float\n",
    "data.ravel()[indices_to_replace] = np.nan\n",
    "\n",
    "print(\"\\nMatrix with missing values:\")\n",
    "print(data)\n",
    "\n",
    "mean_value = np.nanmean(data)\n",
    "data[np.isnan(data)] = mean_value\n",
    "\n",
    "print(\"\\nMatrix after replacing missing values with the mean:\")\n",
    "print(data)"
   ]
  },
  {
   "cell_type": "code",
   "execution_count": null,
   "id": "cb85a2c3-f08d-4111-9c5f-b84a6855aeb4",
   "metadata": {},
   "outputs": [],
   "source": []
  }
 ],
 "metadata": {
  "kernelspec": {
   "display_name": "Python 3 (ipykernel)",
   "language": "python",
   "name": "python3"
  },
  "language_info": {
   "codemirror_mode": {
    "name": "ipython",
    "version": 3
   },
   "file_extension": ".py",
   "mimetype": "text/x-python",
   "name": "python",
   "nbconvert_exporter": "python",
   "pygments_lexer": "ipython3",
   "version": "3.11.0"
  }
 },
 "nbformat": 4,
 "nbformat_minor": 5
}
