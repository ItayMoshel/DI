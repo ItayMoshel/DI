{
 "cells": [
  {
   "cell_type": "code",
   "execution_count": 23,
   "id": "3ced8d4d-2abf-4219-8670-1014110946cf",
   "metadata": {},
   "outputs": [
    {
     "name": "stdout",
     "output_type": "stream",
     "text": [
      "1\n",
      "(11,)\n",
      "11\n",
      "int64\n",
      "float64\n",
      "[20 22 24 26 28 30 32 34 36 38 40]\n",
      "13\n"
     ]
    }
   ],
   "source": [
    "import numpy as np\n",
    "\n",
    "\n",
    "array_1d = np.array([10, 11, 12, 13, 14, 15, 16, 17, 18, 19, 20])\n",
    "float_array_1d = array_1d.astype('float')\n",
    "double_array_1d = array_1d * 2\n",
    "print(array_1d.ndim)\n",
    "print(array_1d.shape)\n",
    "print(array_1d.size)\n",
    "print(array_1d.dtype)\n",
    "print(float_array_1d.dtype)\n",
    "print(double_array_1d)\n",
    "print(array_1d[3])"
   ]
  },
  {
   "cell_type": "code",
   "execution_count": 43,
   "id": "aca7d2af-bbe0-4852-ad0b-5dcf942855d2",
   "metadata": {},
   "outputs": [
    {
     "name": "stdout",
     "output_type": "stream",
     "text": [
      "[[1 2 3]\n",
      " [4 5 6]]\n"
     ]
    }
   ],
   "source": [
    "array_2d = np.array([[1, 2, 3], [4, 5, 6], [7, 8, 9]])\n",
    "# print(array_2d[1][2])\n",
    "print(array_2d[0:2])"
   ]
  },
  {
   "cell_type": "code",
   "execution_count": 27,
   "id": "3f465c93-acc0-4478-a95f-a68d2b42fd33",
   "metadata": {},
   "outputs": [
    {
     "name": "stdout",
     "output_type": "stream",
     "text": [
      "[2 3 4 5]\n"
     ]
    }
   ],
   "source": [
    "array2_1d = np.array([0, 1, 2, 3, 4, 5, 6, 7, 8, 9])\n",
    "print(array2_1d[2:6])"
   ]
  },
  {
   "cell_type": "code",
   "execution_count": null,
   "id": "3bf8f7f9-536a-484d-bd5d-8845f6abe3fe",
   "metadata": {},
   "outputs": [],
   "source": []
  }
 ],
 "metadata": {
  "kernelspec": {
   "display_name": "Python 3 (ipykernel)",
   "language": "python",
   "name": "python3"
  },
  "language_info": {
   "codemirror_mode": {
    "name": "ipython",
    "version": 3
   },
   "file_extension": ".py",
   "mimetype": "text/x-python",
   "name": "python",
   "nbconvert_exporter": "python",
   "pygments_lexer": "ipython3",
   "version": "3.11.0"
  }
 },
 "nbformat": 4,
 "nbformat_minor": 5
}
